{
 "cells": [
  {
   "cell_type": "code",
   "execution_count": 18,
   "id": "c2101157-dd3c-43e2-8e1a-0c08ce05ba18",
   "metadata": {},
   "outputs": [],
   "source": [
    "def lengthOfLastWord(self, s: str) -> int:\n",
    "    s = s.strip() #to remove the leading and trailing whitespaces from the string 's'\n",
    "    words = s.split() #using split function to split the string into a list of words\n",
    "\n",
    "    if len(words) == 0: #if length of words is 0 i.e.,there are no words in the list, then value returned will be 0\n",
    "        return 0\n",
    "    return len(words[-1]) #returns the length of the last word in the list of words\n",
    "\n",
    "#This algorithm has a time complexity of O(n), where n is the length of the input string. \n",
    "#The strip method takes linear time, and finding the last space character using r find also takes linear time in the worst case.\n",
    "#The length calculation is constant time."
   ]
  }
 ],
 "metadata": {
  "kernelspec": {
   "display_name": "Python 3 (ipykernel)",
   "language": "python",
   "name": "python3"
  },
  "language_info": {
   "codemirror_mode": {
    "name": "ipython",
    "version": 3
   },
   "file_extension": ".py",
   "mimetype": "text/x-python",
   "name": "python",
   "nbconvert_exporter": "python",
   "pygments_lexer": "ipython3",
   "version": "3.12.0"
  }
 },
 "nbformat": 4,
 "nbformat_minor": 5
}
