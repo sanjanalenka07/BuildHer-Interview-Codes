{
 "cells": [
  {
   "cell_type": "code",
   "execution_count": 22,
   "id": "98019682-b682-4ddd-b855-651a31e1442f",
   "metadata": {},
   "outputs": [],
   "source": [
    "def countdigitone(n):\n",
    "    count = 0 #initialized to 0 , this variable will hold the count of digit 1 occurance\n",
    "    i = 1 #this varial represents the current place value i.e., ones,tens,hundreds etc...\n",
    "\n",
    "    #while loop iterates through each value place as mentioned in the above comment\n",
    "    while i <= n: \n",
    "        divider = i * 10\n",
    "        count += (n // divider) * i + min(max(n % divider - i + 1, 0), i) #counts the occurance of digit 1 for full cycles of current value place \n",
    "        i *= 10 #i is multiplied by 10 to move to the nextplace value\n",
    "\n",
    "    #count of digit 1 occurance is returned\n",
    "    return count \n",
    "\n",
    "#This algorithm avoids explicitly converting numbers to strings and efficiently counts the \"1\" digits in each position."
   ]
  }
 ],
 "metadata": {
  "kernelspec": {
   "display_name": "Python 3 (ipykernel)",
   "language": "python",
   "name": "python3"
  },
  "language_info": {
   "codemirror_mode": {
    "name": "ipython",
    "version": 3
   },
   "file_extension": ".py",
   "mimetype": "text/x-python",
   "name": "python",
   "nbconvert_exporter": "python",
   "pygments_lexer": "ipython3",
   "version": "3.12.0"
  }
 },
 "nbformat": 4,
 "nbformat_minor": 5
}
