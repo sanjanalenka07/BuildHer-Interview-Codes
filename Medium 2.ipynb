{
 "cells": [
  {
   "cell_type": "code",
   "execution_count": 30,
   "id": "7fd55a84-8160-418b-90a0-1a4a921618c0",
   "metadata": {},
   "outputs": [],
   "source": [
    "def majority(nums):\n",
    "    if not nums:\n",
    "        return []\n",
    "\n",
    "    num1, num2 = None, None\n",
    "    count1, count2 = 0, 0 #keeping count of 2 potential candidates\n",
    "\n",
    "    #find potential candidates (nums is a list of numbers)\n",
    "    for num in nums:\n",
    "        if num == num1:\n",
    "            count1 += 1\n",
    "        elif num == num2:\n",
    "            count2 += 1\n",
    "        elif count1 == 0:\n",
    "            num1, count1 = num, 1\n",
    "        elif count2 == 0:\n",
    "            num2, count2 = num, 1\n",
    "        else:\n",
    "            count1 -= 1\n",
    "            count2 -= 1\n",
    "\n",
    "    #checking the occurance of the candidates with the help of 'count'\n",
    "    count1, count2 = 0, 0\n",
    "    for num in nums:\n",
    "        if num == num1:\n",
    "            count1 += 1\n",
    "        elif num == num2:\n",
    "            count2 += 1\n",
    "\n",
    "    #n value is the length of the list nums\n",
    "    n = len(nums)\n",
    "    result = []\n",
    "\n",
    "    #to check whether candidates appear more than n/3 times\n",
    "    if count1 > n // 3:\n",
    "        result.append(num1)\n",
    "    if count2 > n // 3 and num1 != num2:\n",
    "        result.append(num2)\n",
    "\n",
    "    return result\n",
    "\n",
    "#This algorithm has a time complexity of O(n) and a space complexity of O(1), where n is the length of the input array. \n",
    "#It efficiently identifies the elements that appear more than ⌊ n/3 ⌋ times in the array."
   ]
  }
 ],
 "metadata": {
  "kernelspec": {
   "display_name": "Python 3 (ipykernel)",
   "language": "python",
   "name": "python3"
  },
  "language_info": {
   "codemirror_mode": {
    "name": "ipython",
    "version": 3
   },
   "file_extension": ".py",
   "mimetype": "text/x-python",
   "name": "python",
   "nbconvert_exporter": "python",
   "pygments_lexer": "ipython3",
   "version": "3.12.0"
  }
 },
 "nbformat": 4,
 "nbformat_minor": 5
}
